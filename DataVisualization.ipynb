{
 "cells": [
  {
   "cell_type": "markdown",
   "metadata": {},
   "source": [
    "### Imports"
   ]
  },
  {
   "cell_type": "code",
   "execution_count": 3,
   "metadata": {
    "collapsed": true
   },
   "outputs": [],
   "source": [
    "import pandas as pd\n",
    "import numpy as np\n",
    "import matplotlib.pyplot as plt\n",
    "import os"
   ]
  },
  {
   "cell_type": "markdown",
   "metadata": {},
   "source": [
    "### Setup the paths"
   ]
  },
  {
   "cell_type": "code",
   "execution_count": 5,
   "metadata": {},
   "outputs": [],
   "source": [
    "root_path = '/mnt/data/dl/datasets/sdc/kitti/tracking'\n",
    "label_path = os.path.join(root_path, 'training', 'label_02')\n",
    "image_path = os.path.join(root_path, 'data_tracking_image_2', 'training', 'image_02')\n",
    "lidar_path = os.path.join(root_path, 'data_tracking_velodyne', 'training', 'velodyne')\n",
    "\n",
    "assert(os.path.exists(root_path))\n",
    "assert(os.path.exists(label_path))\n",
    "assert(os.path.exists(image_path))\n",
    "assert(os.path.exists(lidar_path))"
   ]
  },
  {
   "cell_type": "markdown",
   "metadata": {},
   "source": [
    "### Get the sequences"
   ]
  },
  {
   "cell_type": "code",
   "execution_count": 7,
   "metadata": {},
   "outputs": [
    {
     "name": "stdout",
     "output_type": "stream",
     "text": [
      "['0000', '0001', '0002', '0003', '0004', '0005', '0006', '0007', '0008', '0009', '0010', '0011', '0012', '0013', '0014', '0015', '0016', '0017', '0018', '0019', '0020']\n"
     ]
    }
   ],
   "source": [
    "sequence_numbers = os.listdir(image_path)"
   ]
  },
  {
   "cell_type": "code",
   "execution_count": 15,
   "metadata": {},
   "outputs": [
    {
     "name": "stdout",
     "output_type": "stream",
     "text": [
      "   frame  track_id        type  truncated  occluded      alpha    bbox_left  \\\n",
      "0      0        -1    DontCare         -1        -1 -10.000000   219.310000   \n",
      "1      0        -1    DontCare         -1        -1 -10.000000    47.560000   \n",
      "2      0         0         Van          0         0  -1.793451   296.744956   \n",
      "3      0         1     Cyclist          0         0  -1.936993   737.619499   \n",
      "4      0         2  Pedestrian          0         0  -2.523309  1106.137292   \n",
      "\n",
      "     bbox_top   bbox_right  bbox_bottom       height        width  \\\n",
      "0  188.490000   245.500000   218.560000 -1000.000000 -1000.000000   \n",
      "1  195.280000   115.480000   221.480000 -1000.000000 -1000.000000   \n",
      "2  161.752147   455.226042   292.372804     2.000000     1.823255   \n",
      "3  161.531951   931.112229   374.000000     1.739063     0.824591   \n",
      "4  166.576807  1204.470628   323.876144     1.714062     0.767881   \n",
      "\n",
      "        length          x         y          z  rotation_y  score  \n",
      "0 -1000.000000 -10.000000 -1.000000  -1.000000   -1.000000    NaN  \n",
      "1 -1000.000000 -10.000000 -1.000000  -1.000000   -1.000000    NaN  \n",
      "2     4.433886  -4.552284  1.858523  13.410495   -2.115488    NaN  \n",
      "3     1.785241   1.640400  1.675660   5.776261   -1.675458    NaN  \n",
      "4     0.972283   6.301919  1.652419   8.455685   -1.900245    NaN  \n"
     ]
    }
   ],
   "source": [
    "def get_labels(path):\n",
    "    for file in os.listdir(path):\n",
    "        df = pd.read_csv(os.path.join(path, file), delimiter=' ', header=None, \n",
    "                         names=['frame', 'track_id', 'type', 'truncated', 'occluded', 'alpha', 'bbox_left',\n",
    "                               'bbox_top', 'bbox_right', 'bbox_bottom', 'height', 'width' ,'length', 'x', 'y', 'z',\n",
    "                               'rotation_y', 'score'] )\n",
    "        break\n",
    "    return df\n",
    "\n",
    "print (get_labels(label_path).head())"
   ]
  },
  {
   "cell_type": "code",
   "execution_count": null,
   "metadata": {
    "collapsed": true
   },
   "outputs": [],
   "source": []
  }
 ],
 "metadata": {
  "kernelspec": {
   "display_name": "Python 3",
   "language": "python",
   "name": "python3"
  },
  "language_info": {
   "codemirror_mode": {
    "name": "ipython",
    "version": 3
   },
   "file_extension": ".py",
   "mimetype": "text/x-python",
   "name": "python",
   "nbconvert_exporter": "python",
   "pygments_lexer": "ipython3",
   "version": "3.5.4"
  }
 },
 "nbformat": 4,
 "nbformat_minor": 2
}
